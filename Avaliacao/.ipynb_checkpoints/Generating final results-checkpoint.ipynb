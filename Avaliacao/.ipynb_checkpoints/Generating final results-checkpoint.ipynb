{
 "cells": [
  {
   "cell_type": "code",
   "execution_count": 1,
   "metadata": {
    "collapsed": true
   },
   "outputs": [],
   "source": [
    "import numpy as np\n",
    "import pandas as pd\n",
    "import re"
   ]
  },
  {
   "cell_type": "code",
   "execution_count": 62,
   "metadata": {
    "collapsed": true
   },
   "outputs": [],
   "source": [
    "#cv_id, score\n",
    "RECOMM_SIZE = 10"
   ]
  },
  {
   "cell_type": "code",
   "execution_count": 70,
   "metadata": {
    "collapsed": true
   },
   "outputs": [],
   "source": [
    "def get_format(filenames):\n",
    "    count = 0 \n",
    "    df = pd.DataFrame(columns=[\"cv_id\",\"score\"])\n",
    "    cv_id = 0\n",
    "    for f in filenames:\n",
    "        with open(f,errors=\"ignore\") as file:\n",
    "            for i,l in enumerate(file):\n",
    "                s = re.findall(r'\\d+',l)\n",
    "                if s:\n",
    "                    if ((i-1) % RECOMM_SIZE) == 0:\n",
    "                        cv_id += 1\n",
    "                    df = df.append({\"cv_id\":cv_id-1,\"score\": s[-1]},ignore_index=True)\n",
    "                    count += 1\n",
    "    print(count)\n",
    "    df[\"score\"] = df.score.astype(np.int)\n",
    "    df[\"cv_id\"] = df.cv_id.astype(np.int)\n",
    "    return df\n",
    "\n",
    "def get_results(name, dfi):\n",
    "    dfo = pd.DataFrame(columns=[\"method\",\"avg_score\",\"avg_std\",\"avg_precision\",\"avg_me\"])\n",
    "    # MEAN OF SCORE\n",
    "    dfi[\"score_freq\"] = dfi[\"score\"]/RECOMM_SIZE\n",
    "    df_avg = dfi.score_freq.mean()\n",
    "    df_std = dfi.score_freq.std()\n",
    "    # PRECISION\n",
    "    val_rec = dfi[dfi.score>=5]\n",
    "    val_rec_g = val_rec.groupby(\"cv_id\", as_index=0).agg({\"score\":np.size})\n",
    "    val_rec_g= val_rec_g.rename(columns={\"score\":\"num_hits\"})\n",
    "    df_avg_precision = val_rec_g.num_hits.mean()/RECOMM_SIZE\n",
    "    # ME (Minimum Effectiveness)\n",
    "    n_cvs = dfi.cv_id.nunique()\n",
    "    val_rec_h = dfi[dfi.score>=5]\n",
    "    val_rec_h = val_rec_h.groupby(\"cv_id\", as_index=0).agg({\"score\":np.size})\n",
    "    val_rec_h= val_rec_h.rename(columns={\"score\":\"num_hits\"})\n",
    "    avg_me = val_rec_h.shape[0]/n_cvs\n",
    "    \n",
    "    dfo = dfo.append({\"method\": name,\"avg_score\": df_avg, \"avg_std\": df_std, \"avg_precision\":df_avg_precision,\n",
    "                     \"avg_me\":avg_me },ignore_index=True)\n",
    "    return dfo"
   ]
  },
  {
   "cell_type": "markdown",
   "metadata": {},
   "source": [
    "# TFIDF"
   ]
  },
  {
   "cell_type": "code",
   "execution_count": 67,
   "metadata": {},
   "outputs": [
    {
     "name": "stdout",
     "output_type": "stream",
     "text": [
      "500\n"
     ]
    },
    {
     "data": {
      "text/html": [
       "<div>\n",
       "<style>\n",
       "    .dataframe thead tr:only-child th {\n",
       "        text-align: right;\n",
       "    }\n",
       "\n",
       "    .dataframe thead th {\n",
       "        text-align: left;\n",
       "    }\n",
       "\n",
       "    .dataframe tbody tr th {\n",
       "        vertical-align: top;\n",
       "    }\n",
       "</style>\n",
       "<table border=\"1\" class=\"dataframe\">\n",
       "  <thead>\n",
       "    <tr style=\"text-align: right;\">\n",
       "      <th></th>\n",
       "      <th>method</th>\n",
       "      <th>avg_score</th>\n",
       "      <th>avg_std</th>\n",
       "      <th>avg_precision</th>\n",
       "      <th>avg_me</th>\n",
       "    </tr>\n",
       "  </thead>\n",
       "  <tbody>\n",
       "    <tr>\n",
       "      <th>0</th>\n",
       "      <td>tfidf</td>\n",
       "      <td>0.5888</td>\n",
       "      <td>0.198982</td>\n",
       "      <td>0.775</td>\n",
       "      <td>0.96</td>\n",
       "    </tr>\n",
       "  </tbody>\n",
       "</table>\n",
       "</div>"
      ],
      "text/plain": [
       "  method  avg_score   avg_std  avg_precision  avg_me\n",
       "0  tfidf     0.5888  0.198982          0.775    0.96"
      ]
     },
     "execution_count": 67,
     "metadata": {},
     "output_type": "execute_result"
    }
   ],
   "source": [
    "root = \"tfidf/\"\n",
    "fn = [root + \"tf_idf_paul_avaliado.csv\", root + \"tf_idf_jorge_avaliado.csv\", root + \"tf_idf_nath_avaliado.csv\" ,\n",
    "     root + \"tf_idf_ric_avaliado.csv\"]\n",
    "tfidf = get_format(fn)\n",
    "tfidf_results = get_results(\"tfidf\",tfidf)\n",
    "tfidf_results"
   ]
  },
  {
   "cell_type": "markdown",
   "metadata": {},
   "source": [
    "# w2vec_cbow"
   ]
  },
  {
   "cell_type": "code",
   "execution_count": 68,
   "metadata": {},
   "outputs": [
    {
     "name": "stdout",
     "output_type": "stream",
     "text": [
      "500\n"
     ]
    },
    {
     "data": {
      "text/html": [
       "<div>\n",
       "<style>\n",
       "    .dataframe thead tr:only-child th {\n",
       "        text-align: right;\n",
       "    }\n",
       "\n",
       "    .dataframe thead th {\n",
       "        text-align: left;\n",
       "    }\n",
       "\n",
       "    .dataframe tbody tr th {\n",
       "        vertical-align: top;\n",
       "    }\n",
       "</style>\n",
       "<table border=\"1\" class=\"dataframe\">\n",
       "  <thead>\n",
       "    <tr style=\"text-align: right;\">\n",
       "      <th></th>\n",
       "      <th>method</th>\n",
       "      <th>avg_score</th>\n",
       "      <th>avg_std</th>\n",
       "      <th>avg_precision</th>\n",
       "      <th>avg_me</th>\n",
       "    </tr>\n",
       "  </thead>\n",
       "  <tbody>\n",
       "    <tr>\n",
       "      <th>0</th>\n",
       "      <td>w2vec_cbow</td>\n",
       "      <td>0.5486</td>\n",
       "      <td>0.194457</td>\n",
       "      <td>0.765217</td>\n",
       "      <td>0.92</td>\n",
       "    </tr>\n",
       "  </tbody>\n",
       "</table>\n",
       "</div>"
      ],
      "text/plain": [
       "       method  avg_score   avg_std  avg_precision  avg_me\n",
       "0  w2vec_cbow     0.5486  0.194457       0.765217    0.92"
      ]
     },
     "execution_count": 68,
     "metadata": {},
     "output_type": "execute_result"
    }
   ],
   "source": [
    "root = \"w2vec_cbow/\"\n",
    "fn = [root + \"word2vec_cbow_1_jorge_avaliado.csv\", root + \"word2vec_cbow_4_paul_avaliado.csv\", root + \"word2vec_cbow_2_nath_avaliado.csv\" ,\n",
    "     root + \"word2vec_cbow_3_ric_avaliado.csv\"]\n",
    "w2vec_cbow = get_format(fn)\n",
    "w2vec_cbow_results = get_results(\"w2vec_cbow\",w2vec_cbow)\n",
    "w2vec_cbow_results"
   ]
  },
  {
   "cell_type": "markdown",
   "metadata": {},
   "source": [
    "# w2vec_skipgram"
   ]
  },
  {
   "cell_type": "code",
   "execution_count": 71,
   "metadata": {},
   "outputs": [
    {
     "name": "stdout",
     "output_type": "stream",
     "text": [
      "500\n"
     ]
    },
    {
     "data": {
      "text/html": [
       "<div>\n",
       "<style>\n",
       "    .dataframe thead tr:only-child th {\n",
       "        text-align: right;\n",
       "    }\n",
       "\n",
       "    .dataframe thead th {\n",
       "        text-align: left;\n",
       "    }\n",
       "\n",
       "    .dataframe tbody tr th {\n",
       "        vertical-align: top;\n",
       "    }\n",
       "</style>\n",
       "<table border=\"1\" class=\"dataframe\">\n",
       "  <thead>\n",
       "    <tr style=\"text-align: right;\">\n",
       "      <th></th>\n",
       "      <th>method</th>\n",
       "      <th>avg_score</th>\n",
       "      <th>avg_std</th>\n",
       "      <th>avg_precision</th>\n",
       "      <th>avg_me</th>\n",
       "    </tr>\n",
       "  </thead>\n",
       "  <tbody>\n",
       "    <tr>\n",
       "      <th>0</th>\n",
       "      <td>w2vec_skip</td>\n",
       "      <td>0.5904</td>\n",
       "      <td>0.21578</td>\n",
       "      <td>0.814583</td>\n",
       "      <td>0.96</td>\n",
       "    </tr>\n",
       "  </tbody>\n",
       "</table>\n",
       "</div>"
      ],
      "text/plain": [
       "       method  avg_score  avg_std  avg_precision  avg_me\n",
       "0  w2vec_skip     0.5904  0.21578       0.814583    0.96"
      ]
     },
     "execution_count": 71,
     "metadata": {},
     "output_type": "execute_result"
    }
   ],
   "source": [
    "root = \"w2vec_skipgram/\"\n",
    "fn = [root + \"w2vec_skip_1_paul_avaliado.csv\", root + \"w2vec_skip_2_jorge_avaliado.csv\", root + \"w2vec_skip_3_nath_avaliado.csv\" ,\n",
    "     root + \"w2vec_skip_4_ric_avaliado.csv\"]\n",
    "w2vec_skip = get_format(fn)\n",
    "w2vec_skip_results = get_results(\"w2vec_skip\",w2vec_skip)\n",
    "w2vec_skip_results"
   ]
  },
  {
   "cell_type": "markdown",
   "metadata": {},
   "source": [
    "# w2vec_skipgram_phrases"
   ]
  },
  {
   "cell_type": "code",
   "execution_count": 73,
   "metadata": {},
   "outputs": [
    {
     "name": "stdout",
     "output_type": "stream",
     "text": [
      "500\n"
     ]
    },
    {
     "data": {
      "text/html": [
       "<div>\n",
       "<style>\n",
       "    .dataframe thead tr:only-child th {\n",
       "        text-align: right;\n",
       "    }\n",
       "\n",
       "    .dataframe thead th {\n",
       "        text-align: left;\n",
       "    }\n",
       "\n",
       "    .dataframe tbody tr th {\n",
       "        vertical-align: top;\n",
       "    }\n",
       "</style>\n",
       "<table border=\"1\" class=\"dataframe\">\n",
       "  <thead>\n",
       "    <tr style=\"text-align: right;\">\n",
       "      <th></th>\n",
       "      <th>method</th>\n",
       "      <th>avg_score</th>\n",
       "      <th>avg_std</th>\n",
       "      <th>avg_precision</th>\n",
       "      <th>avg_me</th>\n",
       "    </tr>\n",
       "  </thead>\n",
       "  <tbody>\n",
       "    <tr>\n",
       "      <th>0</th>\n",
       "      <td>w2vec_skip_phrases</td>\n",
       "      <td>0.5828</td>\n",
       "      <td>0.208593</td>\n",
       "      <td>0.784783</td>\n",
       "      <td>0.92</td>\n",
       "    </tr>\n",
       "  </tbody>\n",
       "</table>\n",
       "</div>"
      ],
      "text/plain": [
       "               method  avg_score   avg_std  avg_precision  avg_me\n",
       "0  w2vec_skip_phrases     0.5828  0.208593       0.784783    0.92"
      ]
     },
     "execution_count": 73,
     "metadata": {},
     "output_type": "execute_result"
    }
   ],
   "source": [
    "root = \"w2vec_skipgram_phrases/\"\n",
    "fn = [root + \"recomm_w2vec_phrases_skg_paul_avaliado.csv\", root + \"recomm_w2vec_phrases_skg_jorge_avaliado.csv\", root + \"recomm_w2vec_phrases_skg_nath_avaliado.csv\" ,\n",
    "     root + \"recomm_w2vec_phrases_skg_ric_avaliado.csv\"]\n",
    "w2vec_skipf = get_format(fn)\n",
    "w2vec_skipf_results = get_results(\"w2vec_skip_phrases\",w2vec_skipf)\n",
    "w2vec_skipf_results"
   ]
  },
  {
   "cell_type": "markdown",
   "metadata": {
    "collapsed": true
   },
   "source": [
    " # w2vec_cbow_phrases"
   ]
  },
  {
   "cell_type": "code",
   "execution_count": 75,
   "metadata": {},
   "outputs": [
    {
     "name": "stdout",
     "output_type": "stream",
     "text": [
      "500\n"
     ]
    },
    {
     "data": {
      "text/html": [
       "<div>\n",
       "<style>\n",
       "    .dataframe thead tr:only-child th {\n",
       "        text-align: right;\n",
       "    }\n",
       "\n",
       "    .dataframe thead th {\n",
       "        text-align: left;\n",
       "    }\n",
       "\n",
       "    .dataframe tbody tr th {\n",
       "        vertical-align: top;\n",
       "    }\n",
       "</style>\n",
       "<table border=\"1\" class=\"dataframe\">\n",
       "  <thead>\n",
       "    <tr style=\"text-align: right;\">\n",
       "      <th></th>\n",
       "      <th>method</th>\n",
       "      <th>avg_score</th>\n",
       "      <th>avg_std</th>\n",
       "      <th>avg_precision</th>\n",
       "      <th>avg_me</th>\n",
       "    </tr>\n",
       "  </thead>\n",
       "  <tbody>\n",
       "    <tr>\n",
       "      <th>0</th>\n",
       "      <td>w2vec_cbow_phrases</td>\n",
       "      <td>0.5802</td>\n",
       "      <td>0.216522</td>\n",
       "      <td>0.783333</td>\n",
       "      <td>0.96</td>\n",
       "    </tr>\n",
       "  </tbody>\n",
       "</table>\n",
       "</div>"
      ],
      "text/plain": [
       "               method  avg_score   avg_std  avg_precision  avg_me\n",
       "0  w2vec_cbow_phrases     0.5802  0.216522       0.783333    0.96"
      ]
     },
     "execution_count": 75,
     "metadata": {},
     "output_type": "execute_result"
    }
   ],
   "source": [
    "root = \"w2vec_cbow_phrases/\"\n",
    "fn = [root + \"recomm_w2vec_phrases_cbow_paul_avaliado.csv\", root + \"recomm_w2vec_phrases_cbow_jorge_avaliado.csv\", root + \"recomm_w2vec_phrases_cbow_nath_avaliado.csv\" ,\n",
    "     root + \"recomm_w2vec_phrases_cbow_ric_avaliado.csv\"]\n",
    "w2vec_cbowf = get_format(fn)\n",
    "w2vec_cbowf_results = get_results(\"w2vec_cbow_phrases\",w2vec_cbowf)\n",
    "w2vec_cbowf_results"
   ]
  },
  {
   "cell_type": "code",
   "execution_count": null,
   "metadata": {
    "collapsed": true
   },
   "outputs": [],
   "source": []
  }
 ],
 "metadata": {
  "kernelspec": {
   "display_name": "Python 2",
   "language": "python",
   "name": "python2"
  },
  "language_info": {
   "codemirror_mode": {
    "name": "ipython",
    "version": 2
   },
   "file_extension": ".py",
   "mimetype": "text/x-python",
   "name": "python",
   "nbconvert_exporter": "python",
   "pygments_lexer": "ipython2",
   "version": "2.7.16"
  }
 },
 "nbformat": 4,
 "nbformat_minor": 2
}
